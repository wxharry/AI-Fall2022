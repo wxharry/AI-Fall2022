{
 "cells": [
  {
   "attachments": {},
   "cell_type": "markdown",
   "metadata": {},
   "source": [
    "## KNN\n",
    "Also implemented in lab4, which has more parameters"
   ]
  },
  {
   "cell_type": "code",
   "execution_count": 6,
   "metadata": {},
   "outputs": [
    {
     "name": "stdout",
     "output_type": "stream",
     "text": [
      "33700\n"
     ]
    }
   ],
   "source": [
    "import numpy as np\n",
    "\n",
    "class Point:\n",
    "    def __init__(self, name, x, y) -> None:\n",
    "        self.name = name\n",
    "        self.x = x\n",
    "        self.y = y\n",
    "\n",
    "    def distance(self, point):\n",
    "        return (self.x-point.x)**2 + (self.y-point.y)**2\n",
    "\n",
    "\n",
    "names = [chr(i) for i in range(65, 75)]\n",
    "xs = [352, 933, 539, 293, 512, 23, 4, 1077, 1033, 701]\n",
    "ys = [768, 1093, 192, 422, 858, 444, 9, 380, 905, 639]\n",
    "\n",
    "points = [Point(name, x, y) for name, x, y in zip(names, xs, ys)]\n",
    "\n",
    "# for i, p in enumerate(points):\n",
    "#     for j, q in enumerate(points):\n",
    "#         if j < i:\n",
    "#             print(\"    \", end='\\t')\n",
    "#         else:\n",
    "#             print(p.distance(q), end='\\t')\n",
    "#     print()\n",
    "dists = [p.distance(q) for i, p in enumerate(points) for j, q in enumerate(points) if j > i]\n",
    "print(min(dists))\n"
   ]
  },
  {
   "cell_type": "code",
   "execution_count": 11,
   "metadata": {},
   "outputs": [
    {
     "name": "stdout",
     "output_type": "stream",
     "text": [
      "[[(539, 192), (4, 9)], [(352, 768), (933, 1093), (293, 422), (512, 858), (23, 444)], [(1077, 380), (1033, 905), (701, 639)]]\n"
     ]
    }
   ],
   "source": [
    "import numpy as np\n",
    "\n",
    "class Point:\n",
    "    def __init__(self, x, y) -> None:\n",
    "        self.x = x\n",
    "        self.y = y\n",
    "\n",
    "    def distance(self, point):\n",
    "        return (self.x-point.x)**2 + (self.y-point.y)**2\n",
    "    \n",
    "    def __str__(self) -> str:\n",
    "        return f\"({self.x}, {self.y})\"\n",
    "\n",
    "    def __repr__(self) -> str:\n",
    "        return self.__str__()\n",
    "\n",
    "# names = [chr(i) for i in range(65, 75)]\n",
    "xs = [352, 933, 539, 293, 512, 23, 4, 1077, 1033, 701]\n",
    "ys = [768, 1093, 192, 422, 858, 444, 9, 380, 905, 639]\n",
    "points = [Point(x, y) for x, y in zip(xs, ys)]\n",
    "\n",
    "centroids = [Point(400,10), Point(300,700), Point(800,300)]\n",
    "classification = [[] for _ in range(3)]\n",
    "while True:\n",
    "    for point in points:\n",
    "        dists = [point.distance(centroid) for centroid in centroids]\n",
    "        cate = dists.index(min(dists))\n",
    "        classification[cate].append(point)\n",
    "    print(classification)\n",
    "    break"
   ]
  },
  {
   "attachments": {},
   "cell_type": "markdown",
   "metadata": {},
   "source": [
    "## Hierarchical Clustering\n"
   ]
  },
  {
   "cell_type": "code",
   "execution_count": 4,
   "metadata": {},
   "outputs": [
    {
     "name": "stdout",
     "output_type": "stream",
     "text": [
      "352,768,A\n",
      "933,1093,B\n",
      "539,192,C\n",
      "293,422,D\n",
      "512,858,E\n",
      "23,444,F\n",
      "4,9,G\n",
      "1077,380,H\n",
      "1033,905,I\n",
      "701,639,J\n",
      "\n"
     ]
    }
   ],
   "source": [
    "data = \"\"\"A B C D E F G H I J\n",
    "x 352 933 539 293 512 23 4 1077 1033 701\n",
    "y 768 1093 192 422 858 444 9 380 905 639\"\"\"\n",
    "\n",
    "def convert_to_csv(data):\n",
    "    names, xs, ys = data.split('\\n')\n",
    "    names = names.split()\n",
    "    _, *xs = xs.split()\n",
    "    _, *ys = ys.split()\n",
    "    txt = \"\"\n",
    "    for name, x, y in zip(names, xs, ys):\n",
    "        txt += f\"{x},{y},{name}\\n\"\n",
    "    return txt\n",
    "\n",
    "txt = convert_to_csv(data)\n",
    "print(txt)"
   ]
  },
  {
   "cell_type": "code",
   "execution_count": 41,
   "metadata": {},
   "outputs": [],
   "source": [
    "class Cluster:\n",
    "    def __init__(self, points):\n",
    "        self.points = points\n",
    "        self.name = ''.join(sorted([p.name for p in points]))\n",
    "    \n",
    "    def distance(self, cluster, linkage_type):\n",
    "        dists = []\n",
    "        for p1 in self.points:\n",
    "            for p2 in cluster.points:\n",
    "                dists.append(p1.distance(p2))\n",
    "        return min(dists) if linkage_type == 'single' else max(dists)\n",
    "    \n",
    "    def __add__(self, cluster):\n",
    "        return Cluster(self.points + cluster.points)\n",
    "\n"
   ]
  },
  {
   "cell_type": "code",
   "execution_count": 43,
   "metadata": {},
   "outputs": [
    {
     "name": "stdout",
     "output_type": "stream",
     "text": [
      "AE B C D F G H I J\n",
      "AE BI C D F G H J\n",
      "AE BI C DF G H J\n",
      "AEJ BI C DF G H\n",
      "AEJ BI CDF G H\n",
      "ACDEFJ BI G H\n",
      "ABCDEFIJ G H\n",
      "AE B C D F G H I J\n",
      "AE BI C D F G H J\n",
      "AE BI C DF G H J\n",
      "AEJ BI C DF G H\n",
      "AEJ BI C DFG H\n",
      "AEJ BI CH DFG\n",
      "ABEIJ CH DFG\n"
     ]
    }
   ],
   "source": [
    "def parse_input(txt):\n",
    "    point_lst = []\n",
    "    for line in txt.split(\"\\n\"):\n",
    "        if not line:\n",
    "            continue\n",
    "        x, y, name = line.split(',')\n",
    "        point_lst.append(Point(name, int(x), int(y)))\n",
    "    return point_lst\n",
    "\n",
    "from math import inf\n",
    "\n",
    "def hierarchical_clustering(points, k, linkage_type='single'):\n",
    "    dist_table = {}\n",
    "    clusters = {c.name: c for c in [Cluster([point]) for point in points]}\n",
    "    while len(clusters) > k:\n",
    "        distance_list = []\n",
    "        for c1 in clusters:\n",
    "            for c2 in clusters:\n",
    "                if c1 < c2:\n",
    "                    distance_list.append((c1, c2, clusters[c1].distance(clusters[c2], linkage_type)))\n",
    "        c1, c2, _ = min(distance_list, key=lambda x: x[2])\n",
    "        new_cluster = clusters[c1] + clusters[c2]\n",
    "        clusters[new_cluster.name] = new_cluster\n",
    "        clusters.pop(c1)\n",
    "        clusters.pop(c2)\n",
    "        print(' '.join(sorted(clusters.keys())))\n",
    "\n",
    "points = parse_input(txt)\n",
    "hierarchical_clustering(points, 3, 'single')\n",
    "hierarchical_clustering(points, 3, 'complete')\n"
   ]
  }
 ],
 "metadata": {
  "kernelspec": {
   "display_name": "Python 3.10.8 64-bit",
   "language": "python",
   "name": "python3"
  },
  "language_info": {
   "codemirror_mode": {
    "name": "ipython",
    "version": 3
   },
   "file_extension": ".py",
   "mimetype": "text/x-python",
   "name": "python",
   "nbconvert_exporter": "python",
   "pygments_lexer": "ipython3",
   "version": "3.10.8 (main, Oct 21 2022, 22:22:30) [Clang 14.0.0 (clang-1400.0.29.202)]"
  },
  "orig_nbformat": 4,
  "vscode": {
   "interpreter": {
    "hash": "b0fa6594d8f4cbf19f97940f81e996739fb7646882a419484c72d19e05852a7e"
   }
  }
 },
 "nbformat": 4,
 "nbformat_minor": 2
}
